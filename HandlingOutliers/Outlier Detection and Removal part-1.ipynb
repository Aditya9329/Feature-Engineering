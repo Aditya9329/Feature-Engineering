{
 "cells": [
  {
   "cell_type": "code",
   "execution_count": 1,
   "metadata": {},
   "outputs": [],
   "source": [
    "import pandas as pd \n",
    "import numpy as np "
   ]
  },
  {
   "cell_type": "markdown",
   "metadata": {},
   "source": [
    "#### When outlier is dangerous"
   ]
  },
  {
   "cell_type": "markdown",
   "metadata": {},
   "source": [
    "#### What is the effect of outlier in Machine Learning Algorithms\n",
    "    1.Effect the performance\n",
    "#### ML algorithms that can be affected by ouliers\n",
    "    1.Linear Regression\n",
    "    2.Logistic Regression\n",
    "    3.Adaboost Regression\n",
    "#### How to treat Outliers\n",
    "    1. Trimming(approach-1)\n",
    "    2. Capping (approach-2)\n",
    "    3. Treat Outliers as missing values(approch-3)\n",
    "    4. Discretization(approch-4)\n",
    "#### How to detect Outliers\n",
    "    1.Use Normal distribution to detect.\n",
    "    2.If data is Skewed than use inter-quartile range\n",
    "    3.Other distribution use percentile data.\n",
    "#### Techniques for Outlier detection and removal\n",
    "    1.Z-score treatment\n",
    "    2.IQR filtering\n",
    "    3.Percentile approch\n",
    "    4.Winsorization"
   ]
  },
  {
   "cell_type": "code",
   "execution_count": null,
   "metadata": {},
   "outputs": [],
   "source": []
  }
 ],
 "metadata": {
  "kernelspec": {
   "display_name": "Python 3",
   "language": "python",
   "name": "python3"
  },
  "language_info": {
   "codemirror_mode": {
    "name": "ipython",
    "version": 3
   },
   "file_extension": ".py",
   "mimetype": "text/x-python",
   "name": "python",
   "nbconvert_exporter": "python",
   "pygments_lexer": "ipython3",
   "version": "3.8.5"
  }
 },
 "nbformat": 4,
 "nbformat_minor": 4
}
