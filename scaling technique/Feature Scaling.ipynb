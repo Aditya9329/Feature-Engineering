{
 "cells": [
  {
   "cell_type": "markdown",
   "metadata": {},
   "source": [
    "## Why do we need feature scaling\n",
    "#### The datasets that we use for training models in machine learning have unpredictable values that might vary from each other on a broad scale. Numerical values might have big differences amongst themselves, especially when they represent different scales, and this might make it difficult to compare them, i.e., kg, litres, millimetres, miles, pixels, etc.\n",
    "\n",
    "#### Feature scaling is introduced to solve this challenge. It adjusts the numbers to make it easy to compare the values that are out of each other’s scope. This helps increase the accuracy of the models, especially those using algorithms that are sensitive to feature scaling, i.e., Gradient Descent and distance-based algorithms."
   ]
  },
  {
   "cell_type": "code",
   "execution_count": 48,
   "metadata": {},
   "outputs": [
    {
     "ename": "IndentationError",
     "evalue": "unexpected indent (<ipython-input-48-5db33f43044e>, line 2)",
     "output_type": "error",
     "traceback": [
      "\u001b[1;36m  File \u001b[1;32m\"<ipython-input-48-5db33f43044e>\"\u001b[1;36m, line \u001b[1;32m2\u001b[0m\n\u001b[1;33m    1. Normalization\u001b[0m\n\u001b[1;37m    ^\u001b[0m\n\u001b[1;31mIndentationError\u001b[0m\u001b[1;31m:\u001b[0m unexpected indent\n"
     ]
    }
   ],
   "source": [
    "### Techniques available for Scaling or types two only\n",
    "    1. Normalization\n",
    "        a. MinMax Scaler\n",
    "        b. Robust Scaler\n",
    "    2. Standardization or Z-score Normalization\n"
   ]
  },
  {
   "cell_type": "code",
   "execution_count": 49,
   "metadata": {},
   "outputs": [
    {
     "data": {
      "text/plain": [
       "\"\\nFeature Scaling is a technique of bringing down the\\nvalues of all the independent features of our dataset on \\nthe same scale. Feature selection helps to do calculations\\nin algorithms very quickly. It is the important stage of data preprocessing.\\n\\nIf we didn't do feature scaling then the machine learning model gives \\nhigher weightage to higher values and lower weightage to lower values.\\nAlso, takes a lot of time for training the machine learning model.\\n\\n\""
      ]
     },
     "execution_count": 49,
     "metadata": {},
     "output_type": "execute_result"
    }
   ],
   "source": [
    "\"\"\"\n",
    "Feature Scaling is a technique of bringing down the\n",
    "values of all the independent features of our dataset on \n",
    "the same scale. Feature selection helps to do calculations\n",
    "in algorithms very quickly. It is the important stage of data preprocessing.\n",
    "\n",
    "If we didn't do feature scaling then the machine learning model gives \n",
    "higher weightage to higher values and lower weightage to lower values.\n",
    "Also, takes a lot of time for training the machine learning model.\n",
    "\n",
    "\"\"\""
   ]
  },
  {
   "cell_type": "code",
   "execution_count": 50,
   "metadata": {},
   "outputs": [
    {
     "data": {
      "text/plain": [
       "'\\nRobust Scalar\\n-----------------\\n-----------------\\n\\nRobust scaling is one of the best scaling techniques \\nwhen we have outliers present in our dataset. \\nIt scales the data accordingly to \\nthe interquartile range (IQR = 75 Quartile — 25 Quartile).\\n\\n\\nThe interquartile range is the middle range where most of the data \\npoints exist.\\n'"
      ]
     },
     "execution_count": 50,
     "metadata": {},
     "output_type": "execute_result"
    }
   ],
   "source": [
    "\"\"\"\n",
    "Robust Scalar\n",
    "-----------------\n",
    "-----------------\n",
    "\n",
    "Robust scaling is one of the best scaling techniques \n",
    "when we have outliers present in our dataset. \n",
    "It scales the data accordingly to \n",
    "the interquartile range (IQR = 75 Quartile — 25 Quartile).\n",
    "\n",
    "\n",
    "The interquartile range is the middle range where most of the data \n",
    "points exist.\n",
    "\"\"\""
   ]
  },
  {
   "cell_type": "markdown",
   "metadata": {},
   "source": [
    "#### \n",
    "\n",
    "Q. What is Feature Scaling?\n",
    "\n",
    "Feature Scaling is a technique to normalize/standardize the independent features present in the dataset in a fixed range.\n",
    "\n",
    "\n",
    "Q. Why Feature Scaling?\n",
    "\n",
    "Some machine learning algorithms are sensitive, they work on distance formulas and use gradient descent as an optimizer. Having values on the same scales helps gradient descent to reach global minima smoothly. For example, Logistic regression, Support Vector Machine, K Nearest Neighbours, K-Means…\n",
    "\n",
    "\n",
    "Q. When to used Feature Scaling?\n",
    "\n",
    "We have to use when the range of independent features varying on different different scales.\n",
    "\n",
    "Q. What are the advantages of using feature scaling?\n",
    "\n",
    "Makes training faster.\n",
    "Improves the performance.\n",
    "Conclusions:\n",
    "\n",
    "\"\"\""
   ]
  },
  {
   "cell_type": "markdown",
   "metadata": {},
   "source": [
    "#### standardization\n",
    " formula\n",
    "    ----------------\n",
    "    xi = (xi - mean) /std"
   ]
  },
  {
   "cell_type": "markdown",
   "metadata": {},
   "source": [
    "#### after Standardization \n",
    "    ->the mean becomes 0.\n",
    "    ->and std. nbecomes 1."
   ]
  },
  {
   "cell_type": "code",
   "execution_count": 51,
   "metadata": {},
   "outputs": [
    {
     "data": {
      "text/html": [
       "<img src=\"data:image/jpeg;base64,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\" width=\"400\" height=\"400\"/>"
      ],
      "text/plain": [
       "<IPython.core.display.Image object>"
      ]
     },
     "execution_count": 51,
     "metadata": {},
     "output_type": "execute_result"
    }
   ],
   "source": [
    "from IPython.display import Image\n",
    "Image(url= \"data:image/jpeg;base64,/9j/4AAQSkZJRgABAQAAAQABAAD/2wCEAAoHCBQUFBcUFBUXFBIZGBkaGBoaGRgZHBgaGhcZGhocGSAaIS8jIB0qHhcaJTYpKS0vMzMzGSM4PjgyPS4yMzQBCwsLDw4PHRISGT0pIyk7MzIvNDIvLzI0LzoyPTI9MjIyMjIyNDIvLzIyMjIyMzIyLzMyLy8yMi8yMjM2PTIyMv/AABEIAKUBMgMBIgACEQEDEQH/xAAbAAEAAwEBAQEAAAAAAAAAAAAAAwQFAQIGB//EAEUQAAIBAgQCBQYNAgQGAwAAAAECAAMRBBIhMQVBIjJRYXEGExWBk9IUNEJSU2JzkZKhsbLRM3IjgqKzQ4OjweHwFiRk/8QAGAEBAQEBAQAAAAAAAAAAAAAAAAECAwT/xAAjEQEAAgEFAQABBQAAAAAAAAAAARECAyExQVESYQQTMnGh/9oADAMBAAIRAxEAPwD9liIlQiIgIiICIiAiIgIiICIiAiIgIiQ4gkIxXrBTl5620/OBNEwlx2JUnPSv/TUBVJubuKjXUnKDYEA7Ai+ptBx+JtcUddeiQ1iAtVgRpe7ZKenyfOWIuCCWm7ExavEK6ll8yWIDZSA2ViBVO9jbqUxrv5zS9pI1fEGnU6IWoFfIQrEZlZlUkHcEBWt2H1wNaJh/D8SpOaiTdxlUKTlTKgN2BtfMWa/ZpuJ4q8VrZmRUD1FRmKqG0ICFVJ162Y7ajLBTfiV8K7lemAGDMNL2IDEAi/aLGTwU7E5EFOxORBTsTkQU7E5EFOxORBTsTkQU7E5EFOxEQhERAREQEREDO41xRcLSNV1ZgCq2W17sbDrECYP/AM8pfQVv+n78teXvxQ/aU/3ifF4HBK9N3ObMl8oBHT6JNlvrdbZjv0ew2v6dLTwyw+snHU1MoyqH1Q8u6X0NYez9+fXT8ZxNEocpIJsDpfnY8wDefswmdfTxwr5a0s5yu3YnInB2diciB2RV6oVS52UEn1SSZeOp1WqUwtjS3a5PWVgV0Gp3vuACg15ELeBpFVu3XYln/uPLwAAUdyiWpWzlTdiApsOfRY6WvzBJ30lmQIiJQnLTsQERPDMALkgDv0ge4mdisddD5grUcMoIUq5ALAE2zAbX3I2lU8SrgWOHJYXBK5yL2bUdCxBIGxOh1N9IG3ExjxGuAb4dmOtrFgOje+638LXvy7ZJVxtYKGFIDo02OYkBSzkOCbbBdb203I5QNWJgrxuowLJh2YC1hdr2YIwLdCw0fYEnTa2o9txOtcqKBDWvuzWBaooJsoH/AA79YaMLXgbcTEHFK5DMMK9l5FiGa+a2UFOVhfsvpfnqYWozIpZchIuV7O7YQJ4iICIiAiIgIiIZIiICIiAiIgYXlbgalbDFKS5nzobXA0VgTqxA2nxQ8mcb9AfaUvfn6lE6Ya2WEVDGWnjlNy/K6vk5jACXpWAFyxqUrADUk9LYCfpuFxC1EV0N1YXB7jIsfhlqIVa+XcgG17G9j3G2o5yp5N0FTDU8t7MiORfQMyLmt2AnXxJjU1Jzi55MMPmahrROxObq5E7ECAuTcLv28lNr66678pQrVWo1cznNQqEKWNr0n2W5+jYm31WPY2lqomRi6gWYg1LsRYBT0gNr7A9oHcJMyq6EEBkZbEbhlI/MEGCYTSsGyXDE2AvmNrWudCe0C2+/3ylgqjUnGHqEsLE0XOpZRujHnUUfiXXUhpo18OtRSjqGU7g6gxMJEqtPidFhcVFN9hux7wo1sfCe/h1+pTqt/kKf7mWdwdNUXIAFI1ygkgAkgEA7A222EtyKpirWO1NV/ufX7lUj85zzVY9aoqj6iaj1sxB/DLsSimMHfrVKj/58v+2FE6vD6QObIpb5xGZvva5luIHLTszuKcUShlzAszbKN7Dc+r/vLlGsrqHU3Ui4PaJj6i6vdLSxIa9dEGZ2VV7WIA17zJptSIiAiIgIiICIiAiIgIiIZIiICIiAiIgIiIEdbY+B/SU+BfFqH2VP9glytsfA/pKfAvi1D7Kn+wS9J20IiJGyIiByVF/w2C/IYgIAulOy7Ersptpcbki+oEuSN0BBB2IIPgZCEGOwi1VKG4NwVYbow1VlPaD/ABsZFw3Fs2alUsK6WzgaBgeq6/Vax8CCOUlw7kHI3KwQlgS4Ci5PPMDe/iDzsIuJ4Rmy1KZAr075CdmBtmRvqtYeBAPKX8JMUuVEJsQbHTWwOl9R64pvmANiO4ixHLWQYDFCqocAg6hlO6MOsrd4P8jQyRwQbgXJsCL20vuOVxf7vVJOwnkD4hAyoWAZr5RzNtTaSKwIuDcHUEc5j4zgavWFTMQpN3HO4Wy5D8kdv/mZymYjaLJvpqYhmCMUXMwBKqTa5toL8tZl8BxVdy/nASoY2YhQQdLoANwLnX8zNqUuJ4o0qTOFLEbAC9jyLfVHM9kkxvd7Qk+vWO4fTrAB1vY3B2PeL9h5iWFQKAAAANgNAPCUuEY01kLMpVgSpNrK1uaXJuv/AHBmfxLCYlsQjI1k1yt0ctPo2OcHVsxvbfflJ9RX1jF2XtcLXG+FmuoytlZbgA9Ug73FtSOUv4agEQICzAc2Nydb6mTxNRjF32tRduxETakREBERAREQEREBE5edJhlhUuJ4kAGphztTHRDascxdudlAy6HUG4PIyZOIVja2HI26xYW6ZXfKb6WblpvY6DXmG64tVFmWo/mwOqbBlViSbnUlgq8r5r2GWRUw4lU6ooNn1vfMF0VTcNl1BJIH9vKKmMr2UrR1zEMLk6FQVKk2+Uy3uPkta9hPCLiy2rIE05AtbOM17aZsl7W0kdMYzKrHIGIW4JAtcAtoBbrXA52PbAUOL1svTw7KVRGdjmVbsjF7XUnosu2psw3OhnwnEajlT5o5CR0rtsQLFbrqLk720jDrig6Z2Qpbp2GtyouB3Zr259s1RA7EiqBWujWa41U2Nx4Sv6MofRU/wrKUs1uqfA/pKnAvi1D7Kn+wRV4ZQyn/AAqex+QvZ4SpwXhtE4eiTSpkmlTJJRSScg7o6TttRKfouh9DS/Av8R6Kw/0NL2afxDS5Ep+i6H0NL2afxHouh9DS9mn8QLkSn6LofQ0vZp/EejKH0NL2afxAlrUgw5ZhqpIvlaxAI9RP3mecPWvdSRnWwYC4AJUHS+410Pcewzz6MofQ0vZp/ErYjhVLRlpJdbnKEQB+ieibi29teVvGQjflDxNhh2+ErsbLVT56jZx9df8AUOjqcs1aNVXUOpDKwBUjUEHUESi/CsPUUXooAbEjIqnbqtYX56iQLbCvYaYVmAtay0ajHlyFNj+Fj2NpUnZpDoHkENgABsxJvtyJP3+M9PXQMFLKGa9lJFzbew3M9swAuZ81xDhFVqhem7XAuuZyCSFICqQOjewvfkb662xlOUcRaTNcPqJ4dQQQQCCLEHYg8jM/CY82Hnh5tm2JUqpuNBck69zZT3TTm2kdOmqgKoCgbACwHgBJIlbGYfziMmZkvbpKbMLEHQ+q3gZOth7o11dQyMGU7FSCDY2OoksyuB8NaghDtmY7gE5FsT1AQLXvrNWZxmZi5ipSON3YiJtSIiAiIgIiICIiBj4/gq1WcsxGYOug3V0pqyN2qfNgkc7zg4VUzEnEORmY2sQLMoAHW5WuO8zZiEZCcLdbFa75hbrF3BsqA3UvzKsfFz6/eH4aysGNV2Ite7PY2L3uC1tQwG3yBNSIVgjgJUf4dZ0OUre17KSGIWxFunmbc9a2wAnpuFVSdKzBMlr5qhbPddbZrAdEntBY8tJuRAzH4bcocwbIzECopcWdgdLtfMLWDXNgTpKi8GqAWGJYKFVQAGAAVGTk41Nwb/VHjN6IGG3BnNyK7ioQoLAHXKzNtm2OYjQ+uXsFgyhJLs2hFySSbuzC9ydACAPX2y9ECOr1W8D+kp8C+LUPsqf7BLlXqt4H9JT4F8WofZU/2CXpntoRESNEREDyZBjKrJTd0Q1HCkqgNixA0AJ2vPnvLfi+Jw1JWw6XBNmqXU5OkoVcpGua5F+Vpv8AD6rvTV6ieaqEXZMwbKey40MzcTNOn7U44RqTVTPu+34fP+RnHK+KFXz1PKFdgrAi2h6hA+UvM87z6d7gEgXIBsO2RYnEJSRnchUUFmPYALk6anQTmDxSVUWpTbMjKGU6i4IuNDqNO2I2ipk1ZjLL7jGo8jh8Pwryqq/CKwr0fM0s3SIuWVlS4U5QQzELvpou+k+6CI6ZbK1NltbQqVIsRppa069FW3AOoPrBuD4gyi2DRX6p6Z0KLkK2XZmp2NjlJBPPS+oEYxMRvNrq546mV441tx/TxgWNKoKFQltL0HY3zKAboSf+IoO+7Lrya2o9MNa42II7iNjM3HcMNRcoqutiCpYK+RhqrAmzZh/d43BnnA4+sS1OoimrTtnCtYsD1XRWFsrWPytCCOU1y4Rs0KbX6LWLgDMBtY3115Gx/SQjB5f6Teb+rbMn4b9H/KR65ypjBpmz0iCCcyHLbmCwun+qWMNXWooZSCD3g27tJGkHwwr/AFVyfWBzJ+K3R/zADvMtqwIuDcHYz3KTYMDWmTTbu1UnfpLtvuRY98ouxKXwl0/qJp89Lsv+YdZfzA7ZZp1FYBlIYHYggg+BECSIiAiIgIiICIiAiIgIiICIiAiIgIiICIiBHV6reB/SU+BfFqH2VP8AYJcq9VvA/pKfAvi1D7Kn+wS9M9tCIiRonJ2V8XnNNxTKiplOQtcqGtoWtyvBCafNYPyww9TFthQTcEqrWazOL5ltl0tY6k2NtJF5GYfGqKvwtrqXfKGzFr3FyCfkHkJu0+GUlqtXVAKrKAzXOoG2l7DxAmN5iJjZ3nHT08ssct9tpidrQcf4LSxlE0qm26EX6LWIVrAi9sx0OkeT/BqeEoilT15u2vTewDNYk2vYaDSS8aFbzL/BsvnrDLnzZdxm6ut8t7d9pl+RIxYwwGL62uXMXNS1zfzhbnfa3K0bfXG/pE5To/y2vi/9p9GRPFSkGBU6ggg+BnzeB8saFXFthV3HRRul0mW+dbZdLZTqTY2n1E1GUTw556WenMfUVPKtRcg5GsD8jpXLKAtzrrcE6+o85DxLCs2WpTsK6XyE7MDbMjfVaw8CAeUs4mnmGlgwuVawOVrEXF+difUTFCrmuDups2hAvYHS+41lYmLhHgcWtVAwBBuQyndGGjK3eD/I0njEYKmWzZFLGwZuq1hfUEa3F/u9Ur46m1JziKYJFgKyDdlGzqObqPxLpuFmjSqq6hlIZWAKkaggi4I7omEhXGGNgadVgNxciopv2lukR4MJ0tWXdUcdxKH1A3H+oSXqH6hIAAHVOvZyOnrMnkhVP4aB10dD3qSPxJdR6zPAo06l2pOA3NqbDU/WGqsf7gZflethUfVkVj2kC48DuJRD56onXXOvz6YNx/cmp/CW8BLFGsri6sCNtDsew9h7pD8DI6lSovcW84D4+cufuIkFbCVCc1kLfOUtSYfuDeDaSI04mQMdUp/1KdRlHygoLeJCEqR4EHsWXsJi6dVcyMGGx7QexgdQe4yqsxMziNaqrJkBYa5lCkknQL0rZQouSblTzBNsprVeLVAWtTNlUNZlcEjmTcdECzHXfLYQNyJhvxLEZWK0cxCkr0XUOcrHmLpYgDXrX0mlgqjsGzgAh2AsGAKg9E673FjppAtREQEREBERAREQEREBERAjq9VvA/pKfAvi1D7Kn+wS5V6reB/SU+BfFqH2VP8AYJeme2hERI0REQI6jhQSSABqSdLDvinUBAIIIOoI1uO6ZXlPwt8Th3pI5psQbWNg3RIyvoeib6zz5L8KfC4daVSoajCxNzcJ0QMqaA5ARpftmb3qm/nH9v6ve+Pw5xzykw+EamlVum7KLC11ViRna5HQBBuZrUaquqspDKwDKRsQRcEeIMz+K8BoYkoaqBmRgwOlza/RbTVdTptNGnTCgKoCgAAACwAGgAA2ERdzfC5Tp/MfN334gp4CmtVqwQCqyhWbmQNh2S5OXleri0Q2Zhm+aNWPgo1PqErnMzPKzKmJQ9dbllBsubKGuOqb6b2seR9d+fCKjdSmQPnOcg9QF2+8CRV8E9RStSoCCD0QgC92a5LGx7GEEbLtNri/5aaHmDbmJl/Fn/8Ay1G9VKox/JHJ9THsbSTD4VMMgyWFJQS98zMbKOlpuejqLbdlrS86LUQqwDIwsQdQykfmCJYkmO4TESKkCOjqQALEm5Pj3/8AiQYCgyLkZs4UkITfNk+SGJ3YbX52B3vLkiEREqkREBERApcRFTKDSPSvYjTZgVza/NJDd4UjnKlFsTms6gJmYXGVjYHok3I6BW5PyrzYiBjUGxZyhgBouYkJ2Je1m3/qX5dW3OX8CzlFNQZX+UNO066aaixtyvLUQEREBERAREQEREBERAREQI6vVbwP6SnwL4tQ+yp/sEYviNNLoxbNbkjsNR2hbShwbitJcPRUl7ilTBtTqnUIOYWxlqa4YmYvld4qK+UGhYsA5IOXpHLZQC2xubjlpY6GVa2MxSkDzSm7kKFGa6hltc5wF6JY3PZsJb9NUe1/ZVfcj01R7X9lV9ySp8W4VadXGbsi3+b0QCL23zE3+Vb1X7J6T4khcyorecNwDoUyN3k9bLtr3DWe/TNHtf2VX3I9M0e1/ZVfcj5nwuPVOli8X0V80CwFmJFgzAIWN8wAXpkXAOqMQCLTpxGMAW9NLmwsBexy1Sb/AOIAB0aY3+X6pb9NUe1/ZVfcj01R7X9lV9yKnwuPVU1cZewRba9JrH5LEaBxucq8rby5hWrsr51Sm+Y5N2GXkTZtfy8BPPpqj2v7Kr7kemaPa/sqvuRU+Fx6l+BFuu7v3A5F+5LEjuYmT0aCILIqqO4AfpKfpmj2v7Kr7kemaPa/sqvuR8z4XHrQiZ/pmj2v7Kr7kemaPa/sqvuS1PhcNCRU6dr6k3JOutr8h3f+7WEqemaPa/sqvux6Zo9r+yq+7JU+LcNCJn+maPa/sqvuR6Zo9r+yq+5LU+JcNCJn+maPa/sqvuR6Zo9r+yq+5FT4XDQiZ/pmj2v7Kr7kemaPa/sqvuRU+Fw0Imf6Zo9r+yq+5Hpmj2v7Kr7kVPhcNCdmI3lDSWotMh7PorZHF25qQVB7NRfvtND0nQ+mpfjT+ZJxnwjKJW4lT0nQ+mpfjT+ZPTqKwDKQwOxBBB8CIaSREQEREBERAREQEREBERA8VBdSO4/pKnCaRShSVxZ1porDsIUAjTvl6ItK3siIhSIiAiIgIiICIiAiIgIiICIiAiIgIiICIiBWq4dLs+UZ8uXNbWwvpfs1n49w/CGoFVFDNkBA0u1gLhRzNuXdP2er1T4H9J+M8NxZphXQgPkADc1JA6S/Wtceuev9LdZU8uv0VsPkYqQtwSDaxFxvY85+meRg/wDpUv8Amf7jz83xGKz/ADVGZmsugBbLewvoOjt3mfpHkZ8Spf8AM/3Hmv1V/MJofyluxETxPWREQEREBERAREQEREBERAREQEREBERAREQEREBERAREQEREBERAREQEREBKXorD/QUvZp/ERAeisP8AQUvZp/Es0qSoAqqFUbAAADwAiItEkREK/9k=\", width=400, height=400)"
   ]
  },
  {
   "cell_type": "code",
   "execution_count": 73,
   "metadata": {},
   "outputs": [],
   "source": [
    "import numpy as np \n",
    "import pandas as pd \n",
    "import matplotlib.pyplot as plt "
   ]
  },
  {
   "cell_type": "code",
   "execution_count": 74,
   "metadata": {},
   "outputs": [],
   "source": [
    "df = pd.read_csv('Social_Network_Ads.csv')"
   ]
  },
  {
   "cell_type": "code",
   "execution_count": 75,
   "metadata": {},
   "outputs": [
    {
     "data": {
      "text/html": [
       "<div>\n",
       "<style scoped>\n",
       "    .dataframe tbody tr th:only-of-type {\n",
       "        vertical-align: middle;\n",
       "    }\n",
       "\n",
       "    .dataframe tbody tr th {\n",
       "        vertical-align: top;\n",
       "    }\n",
       "\n",
       "    .dataframe thead th {\n",
       "        text-align: right;\n",
       "    }\n",
       "</style>\n",
       "<table border=\"1\" class=\"dataframe\">\n",
       "  <thead>\n",
       "    <tr style=\"text-align: right;\">\n",
       "      <th></th>\n",
       "      <th>User ID</th>\n",
       "      <th>Gender</th>\n",
       "      <th>Age</th>\n",
       "      <th>EstimatedSalary</th>\n",
       "      <th>Purchased</th>\n",
       "    </tr>\n",
       "  </thead>\n",
       "  <tbody>\n",
       "    <tr>\n",
       "      <th>0</th>\n",
       "      <td>15624510</td>\n",
       "      <td>Male</td>\n",
       "      <td>19</td>\n",
       "      <td>19000</td>\n",
       "      <td>0</td>\n",
       "    </tr>\n",
       "    <tr>\n",
       "      <th>1</th>\n",
       "      <td>15810944</td>\n",
       "      <td>Male</td>\n",
       "      <td>35</td>\n",
       "      <td>20000</td>\n",
       "      <td>0</td>\n",
       "    </tr>\n",
       "    <tr>\n",
       "      <th>2</th>\n",
       "      <td>15668575</td>\n",
       "      <td>Female</td>\n",
       "      <td>26</td>\n",
       "      <td>43000</td>\n",
       "      <td>0</td>\n",
       "    </tr>\n",
       "    <tr>\n",
       "      <th>3</th>\n",
       "      <td>15603246</td>\n",
       "      <td>Female</td>\n",
       "      <td>27</td>\n",
       "      <td>57000</td>\n",
       "      <td>0</td>\n",
       "    </tr>\n",
       "    <tr>\n",
       "      <th>4</th>\n",
       "      <td>15804002</td>\n",
       "      <td>Male</td>\n",
       "      <td>19</td>\n",
       "      <td>76000</td>\n",
       "      <td>0</td>\n",
       "    </tr>\n",
       "  </tbody>\n",
       "</table>\n",
       "</div>"
      ],
      "text/plain": [
       "    User ID  Gender  Age  EstimatedSalary  Purchased\n",
       "0  15624510    Male   19            19000          0\n",
       "1  15810944    Male   35            20000          0\n",
       "2  15668575  Female   26            43000          0\n",
       "3  15603246  Female   27            57000          0\n",
       "4  15804002    Male   19            76000          0"
      ]
     },
     "execution_count": 75,
     "metadata": {},
     "output_type": "execute_result"
    }
   ],
   "source": [
    "df.head()"
   ]
  },
  {
   "cell_type": "code",
   "execution_count": 76,
   "metadata": {},
   "outputs": [
    {
     "data": {
      "text/html": [
       "<div>\n",
       "<style scoped>\n",
       "    .dataframe tbody tr th:only-of-type {\n",
       "        vertical-align: middle;\n",
       "    }\n",
       "\n",
       "    .dataframe tbody tr th {\n",
       "        vertical-align: top;\n",
       "    }\n",
       "\n",
       "    .dataframe thead th {\n",
       "        text-align: right;\n",
       "    }\n",
       "</style>\n",
       "<table border=\"1\" class=\"dataframe\">\n",
       "  <thead>\n",
       "    <tr style=\"text-align: right;\">\n",
       "      <th></th>\n",
       "      <th>Age</th>\n",
       "      <th>EstimatedSalary</th>\n",
       "      <th>Purchased</th>\n",
       "    </tr>\n",
       "  </thead>\n",
       "  <tbody>\n",
       "    <tr>\n",
       "      <th>0</th>\n",
       "      <td>19</td>\n",
       "      <td>19000</td>\n",
       "      <td>0</td>\n",
       "    </tr>\n",
       "    <tr>\n",
       "      <th>1</th>\n",
       "      <td>35</td>\n",
       "      <td>20000</td>\n",
       "      <td>0</td>\n",
       "    </tr>\n",
       "    <tr>\n",
       "      <th>2</th>\n",
       "      <td>26</td>\n",
       "      <td>43000</td>\n",
       "      <td>0</td>\n",
       "    </tr>\n",
       "    <tr>\n",
       "      <th>3</th>\n",
       "      <td>27</td>\n",
       "      <td>57000</td>\n",
       "      <td>0</td>\n",
       "    </tr>\n",
       "    <tr>\n",
       "      <th>4</th>\n",
       "      <td>19</td>\n",
       "      <td>76000</td>\n",
       "      <td>0</td>\n",
       "    </tr>\n",
       "    <tr>\n",
       "      <th>...</th>\n",
       "      <td>...</td>\n",
       "      <td>...</td>\n",
       "      <td>...</td>\n",
       "    </tr>\n",
       "    <tr>\n",
       "      <th>395</th>\n",
       "      <td>46</td>\n",
       "      <td>41000</td>\n",
       "      <td>1</td>\n",
       "    </tr>\n",
       "    <tr>\n",
       "      <th>396</th>\n",
       "      <td>51</td>\n",
       "      <td>23000</td>\n",
       "      <td>1</td>\n",
       "    </tr>\n",
       "    <tr>\n",
       "      <th>397</th>\n",
       "      <td>50</td>\n",
       "      <td>20000</td>\n",
       "      <td>1</td>\n",
       "    </tr>\n",
       "    <tr>\n",
       "      <th>398</th>\n",
       "      <td>36</td>\n",
       "      <td>33000</td>\n",
       "      <td>0</td>\n",
       "    </tr>\n",
       "    <tr>\n",
       "      <th>399</th>\n",
       "      <td>49</td>\n",
       "      <td>36000</td>\n",
       "      <td>1</td>\n",
       "    </tr>\n",
       "  </tbody>\n",
       "</table>\n",
       "<p>400 rows × 3 columns</p>\n",
       "</div>"
      ],
      "text/plain": [
       "     Age  EstimatedSalary  Purchased\n",
       "0     19            19000          0\n",
       "1     35            20000          0\n",
       "2     26            43000          0\n",
       "3     27            57000          0\n",
       "4     19            76000          0\n",
       "..   ...              ...        ...\n",
       "395   46            41000          1\n",
       "396   51            23000          1\n",
       "397   50            20000          1\n",
       "398   36            33000          0\n",
       "399   49            36000          1\n",
       "\n",
       "[400 rows x 3 columns]"
      ]
     },
     "execution_count": 76,
     "metadata": {},
     "output_type": "execute_result"
    }
   ],
   "source": [
    "df.iloc[:,2:]"
   ]
  },
  {
   "cell_type": "code",
   "execution_count": 77,
   "metadata": {},
   "outputs": [],
   "source": [
    "df = df.iloc[:,2:]"
   ]
  },
  {
   "cell_type": "code",
   "execution_count": 78,
   "metadata": {},
   "outputs": [
    {
     "data": {
      "text/html": [
       "<div>\n",
       "<style scoped>\n",
       "    .dataframe tbody tr th:only-of-type {\n",
       "        vertical-align: middle;\n",
       "    }\n",
       "\n",
       "    .dataframe tbody tr th {\n",
       "        vertical-align: top;\n",
       "    }\n",
       "\n",
       "    .dataframe thead th {\n",
       "        text-align: right;\n",
       "    }\n",
       "</style>\n",
       "<table border=\"1\" class=\"dataframe\">\n",
       "  <thead>\n",
       "    <tr style=\"text-align: right;\">\n",
       "      <th></th>\n",
       "      <th>Age</th>\n",
       "      <th>EstimatedSalary</th>\n",
       "      <th>Purchased</th>\n",
       "    </tr>\n",
       "  </thead>\n",
       "  <tbody>\n",
       "    <tr>\n",
       "      <th>0</th>\n",
       "      <td>19</td>\n",
       "      <td>19000</td>\n",
       "      <td>0</td>\n",
       "    </tr>\n",
       "    <tr>\n",
       "      <th>1</th>\n",
       "      <td>35</td>\n",
       "      <td>20000</td>\n",
       "      <td>0</td>\n",
       "    </tr>\n",
       "    <tr>\n",
       "      <th>2</th>\n",
       "      <td>26</td>\n",
       "      <td>43000</td>\n",
       "      <td>0</td>\n",
       "    </tr>\n",
       "    <tr>\n",
       "      <th>3</th>\n",
       "      <td>27</td>\n",
       "      <td>57000</td>\n",
       "      <td>0</td>\n",
       "    </tr>\n",
       "    <tr>\n",
       "      <th>4</th>\n",
       "      <td>19</td>\n",
       "      <td>76000</td>\n",
       "      <td>0</td>\n",
       "    </tr>\n",
       "  </tbody>\n",
       "</table>\n",
       "</div>"
      ],
      "text/plain": [
       "   Age  EstimatedSalary  Purchased\n",
       "0   19            19000          0\n",
       "1   35            20000          0\n",
       "2   26            43000          0\n",
       "3   27            57000          0\n",
       "4   19            76000          0"
      ]
     },
     "execution_count": 78,
     "metadata": {},
     "output_type": "execute_result"
    }
   ],
   "source": [
    "df.head()"
   ]
  },
  {
   "cell_type": "code",
   "execution_count": 79,
   "metadata": {},
   "outputs": [],
   "source": [
    "from sklearn.model_selection import train_test_split\n"
   ]
  },
  {
   "cell_type": "code",
   "execution_count": 80,
   "metadata": {},
   "outputs": [],
   "source": [
    "x_train,x_test,y_train,y_test = train_test_split(df.drop(columns='Purchased'),df['Purchased'])"
   ]
  },
  {
   "cell_type": "code",
   "execution_count": 81,
   "metadata": {},
   "outputs": [
    {
     "data": {
      "text/html": [
       "<div>\n",
       "<style scoped>\n",
       "    .dataframe tbody tr th:only-of-type {\n",
       "        vertical-align: middle;\n",
       "    }\n",
       "\n",
       "    .dataframe tbody tr th {\n",
       "        vertical-align: top;\n",
       "    }\n",
       "\n",
       "    .dataframe thead th {\n",
       "        text-align: right;\n",
       "    }\n",
       "</style>\n",
       "<table border=\"1\" class=\"dataframe\">\n",
       "  <thead>\n",
       "    <tr style=\"text-align: right;\">\n",
       "      <th></th>\n",
       "      <th>Age</th>\n",
       "      <th>EstimatedSalary</th>\n",
       "    </tr>\n",
       "  </thead>\n",
       "  <tbody>\n",
       "    <tr>\n",
       "      <th>155</th>\n",
       "      <td>31</td>\n",
       "      <td>15000</td>\n",
       "    </tr>\n",
       "    <tr>\n",
       "      <th>274</th>\n",
       "      <td>57</td>\n",
       "      <td>26000</td>\n",
       "    </tr>\n",
       "    <tr>\n",
       "      <th>74</th>\n",
       "      <td>32</td>\n",
       "      <td>18000</td>\n",
       "    </tr>\n",
       "    <tr>\n",
       "      <th>228</th>\n",
       "      <td>40</td>\n",
       "      <td>72000</td>\n",
       "    </tr>\n",
       "    <tr>\n",
       "      <th>148</th>\n",
       "      <td>29</td>\n",
       "      <td>61000</td>\n",
       "    </tr>\n",
       "    <tr>\n",
       "      <th>...</th>\n",
       "      <td>...</td>\n",
       "      <td>...</td>\n",
       "    </tr>\n",
       "    <tr>\n",
       "      <th>220</th>\n",
       "      <td>41</td>\n",
       "      <td>80000</td>\n",
       "    </tr>\n",
       "    <tr>\n",
       "      <th>180</th>\n",
       "      <td>26</td>\n",
       "      <td>16000</td>\n",
       "    </tr>\n",
       "    <tr>\n",
       "      <th>175</th>\n",
       "      <td>23</td>\n",
       "      <td>28000</td>\n",
       "    </tr>\n",
       "    <tr>\n",
       "      <th>265</th>\n",
       "      <td>42</td>\n",
       "      <td>108000</td>\n",
       "    </tr>\n",
       "    <tr>\n",
       "      <th>238</th>\n",
       "      <td>46</td>\n",
       "      <td>82000</td>\n",
       "    </tr>\n",
       "  </tbody>\n",
       "</table>\n",
       "<p>300 rows × 2 columns</p>\n",
       "</div>"
      ],
      "text/plain": [
       "     Age  EstimatedSalary\n",
       "155   31            15000\n",
       "274   57            26000\n",
       "74    32            18000\n",
       "228   40            72000\n",
       "148   29            61000\n",
       "..   ...              ...\n",
       "220   41            80000\n",
       "180   26            16000\n",
       "175   23            28000\n",
       "265   42           108000\n",
       "238   46            82000\n",
       "\n",
       "[300 rows x 2 columns]"
      ]
     },
     "execution_count": 81,
     "metadata": {},
     "output_type": "execute_result"
    }
   ],
   "source": [
    "x_train"
   ]
  },
  {
   "cell_type": "code",
   "execution_count": 82,
   "metadata": {},
   "outputs": [
    {
     "data": {
      "text/plain": [
       "155    0\n",
       "274    1\n",
       "74     0\n",
       "228    0\n",
       "148    0\n",
       "      ..\n",
       "220    0\n",
       "180    0\n",
       "175    0\n",
       "265    1\n",
       "238    0\n",
       "Name: Purchased, Length: 300, dtype: int64"
      ]
     },
     "execution_count": 82,
     "metadata": {},
     "output_type": "execute_result"
    }
   ],
   "source": [
    "y_train"
   ]
  },
  {
   "cell_type": "code",
   "execution_count": 83,
   "metadata": {},
   "outputs": [
    {
     "data": {
      "text/html": [
       "<div>\n",
       "<style scoped>\n",
       "    .dataframe tbody tr th:only-of-type {\n",
       "        vertical-align: middle;\n",
       "    }\n",
       "\n",
       "    .dataframe tbody tr th {\n",
       "        vertical-align: top;\n",
       "    }\n",
       "\n",
       "    .dataframe thead th {\n",
       "        text-align: right;\n",
       "    }\n",
       "</style>\n",
       "<table border=\"1\" class=\"dataframe\">\n",
       "  <thead>\n",
       "    <tr style=\"text-align: right;\">\n",
       "      <th></th>\n",
       "      <th>Age</th>\n",
       "      <th>EstimatedSalary</th>\n",
       "    </tr>\n",
       "  </thead>\n",
       "  <tbody>\n",
       "    <tr>\n",
       "      <th>329</th>\n",
       "      <td>47</td>\n",
       "      <td>107000</td>\n",
       "    </tr>\n",
       "    <tr>\n",
       "      <th>346</th>\n",
       "      <td>53</td>\n",
       "      <td>72000</td>\n",
       "    </tr>\n",
       "    <tr>\n",
       "      <th>24</th>\n",
       "      <td>46</td>\n",
       "      <td>23000</td>\n",
       "    </tr>\n",
       "    <tr>\n",
       "      <th>39</th>\n",
       "      <td>27</td>\n",
       "      <td>31000</td>\n",
       "    </tr>\n",
       "    <tr>\n",
       "      <th>258</th>\n",
       "      <td>58</td>\n",
       "      <td>95000</td>\n",
       "    </tr>\n",
       "    <tr>\n",
       "      <th>...</th>\n",
       "      <td>...</td>\n",
       "      <td>...</td>\n",
       "    </tr>\n",
       "    <tr>\n",
       "      <th>266</th>\n",
       "      <td>40</td>\n",
       "      <td>75000</td>\n",
       "    </tr>\n",
       "    <tr>\n",
       "      <th>136</th>\n",
       "      <td>20</td>\n",
       "      <td>82000</td>\n",
       "    </tr>\n",
       "    <tr>\n",
       "      <th>172</th>\n",
       "      <td>26</td>\n",
       "      <td>118000</td>\n",
       "    </tr>\n",
       "    <tr>\n",
       "      <th>263</th>\n",
       "      <td>35</td>\n",
       "      <td>72000</td>\n",
       "    </tr>\n",
       "    <tr>\n",
       "      <th>393</th>\n",
       "      <td>60</td>\n",
       "      <td>42000</td>\n",
       "    </tr>\n",
       "  </tbody>\n",
       "</table>\n",
       "<p>100 rows × 2 columns</p>\n",
       "</div>"
      ],
      "text/plain": [
       "     Age  EstimatedSalary\n",
       "329   47           107000\n",
       "346   53            72000\n",
       "24    46            23000\n",
       "39    27            31000\n",
       "258   58            95000\n",
       "..   ...              ...\n",
       "266   40            75000\n",
       "136   20            82000\n",
       "172   26           118000\n",
       "263   35            72000\n",
       "393   60            42000\n",
       "\n",
       "[100 rows x 2 columns]"
      ]
     },
     "execution_count": 83,
     "metadata": {},
     "output_type": "execute_result"
    }
   ],
   "source": [
    "x_test"
   ]
  },
  {
   "cell_type": "code",
   "execution_count": 84,
   "metadata": {},
   "outputs": [
    {
     "data": {
      "text/plain": [
       "329    1\n",
       "346    1\n",
       "24     1\n",
       "39     0\n",
       "258    1\n",
       "      ..\n",
       "266    0\n",
       "136    0\n",
       "172    0\n",
       "263    0\n",
       "393    1\n",
       "Name: Purchased, Length: 100, dtype: int64"
      ]
     },
     "execution_count": 84,
     "metadata": {},
     "output_type": "execute_result"
    }
   ],
   "source": [
    "y_test"
   ]
  },
  {
   "cell_type": "code",
   "execution_count": 85,
   "metadata": {},
   "outputs": [],
   "source": [
    "from sklearn.preprocessing import StandardScaler\n",
    "slr = StandardScaler()\n",
    "slr.fit(x_train)\n",
    "x_train_scaled = slr.transform(x_train)\n",
    "x_test_scaled = slr.transform(x_test)\n"
   ]
  },
  {
   "cell_type": "code",
   "execution_count": 86,
   "metadata": {},
   "outputs": [
    {
     "data": {
      "text/plain": [
       "array([3.72400000e+01, 7.01033333e+04])"
      ]
     },
     "execution_count": 86,
     "metadata": {},
     "output_type": "execute_result"
    }
   ],
   "source": [
    "slr.mean_"
   ]
  },
  {
   "cell_type": "code",
   "execution_count": 87,
   "metadata": {},
   "outputs": [],
   "source": [
    "x_train_scaled = pd.DataFrame(x_train_scaled , columns=x_train.columns)\n",
    "x_test_scaled= pd.DataFrame(x_test_scaled , columns = x_test.columns)"
   ]
  },
  {
   "cell_type": "code",
   "execution_count": 88,
   "metadata": {},
   "outputs": [
    {
     "data": {
      "text/html": [
       "<div>\n",
       "<style scoped>\n",
       "    .dataframe tbody tr th:only-of-type {\n",
       "        vertical-align: middle;\n",
       "    }\n",
       "\n",
       "    .dataframe tbody tr th {\n",
       "        vertical-align: top;\n",
       "    }\n",
       "\n",
       "    .dataframe thead th {\n",
       "        text-align: right;\n",
       "    }\n",
       "</style>\n",
       "<table border=\"1\" class=\"dataframe\">\n",
       "  <thead>\n",
       "    <tr style=\"text-align: right;\">\n",
       "      <th></th>\n",
       "      <th>Age</th>\n",
       "      <th>EstimatedSalary</th>\n",
       "    </tr>\n",
       "  </thead>\n",
       "  <tbody>\n",
       "    <tr>\n",
       "      <th>0</th>\n",
       "      <td>-0.615376</td>\n",
       "      <td>-1.615376</td>\n",
       "    </tr>\n",
       "    <tr>\n",
       "      <th>1</th>\n",
       "      <td>1.948691</td>\n",
       "      <td>-1.292907</td>\n",
       "    </tr>\n",
       "    <tr>\n",
       "      <th>2</th>\n",
       "      <td>-0.516758</td>\n",
       "      <td>-1.527430</td>\n",
       "    </tr>\n",
       "    <tr>\n",
       "      <th>3</th>\n",
       "      <td>0.272186</td>\n",
       "      <td>0.055602</td>\n",
       "    </tr>\n",
       "    <tr>\n",
       "      <th>4</th>\n",
       "      <td>-0.812612</td>\n",
       "      <td>-0.266868</td>\n",
       "    </tr>\n",
       "    <tr>\n",
       "      <th>...</th>\n",
       "      <td>...</td>\n",
       "      <td>...</td>\n",
       "    </tr>\n",
       "    <tr>\n",
       "      <th>295</th>\n",
       "      <td>0.370804</td>\n",
       "      <td>0.290125</td>\n",
       "    </tr>\n",
       "    <tr>\n",
       "      <th>296</th>\n",
       "      <td>-1.108466</td>\n",
       "      <td>-1.586061</td>\n",
       "    </tr>\n",
       "    <tr>\n",
       "      <th>297</th>\n",
       "      <td>-1.404320</td>\n",
       "      <td>-1.234276</td>\n",
       "    </tr>\n",
       "    <tr>\n",
       "      <th>298</th>\n",
       "      <td>0.469422</td>\n",
       "      <td>1.110956</td>\n",
       "    </tr>\n",
       "    <tr>\n",
       "      <th>299</th>\n",
       "      <td>0.863894</td>\n",
       "      <td>0.348756</td>\n",
       "    </tr>\n",
       "  </tbody>\n",
       "</table>\n",
       "<p>300 rows × 2 columns</p>\n",
       "</div>"
      ],
      "text/plain": [
       "          Age  EstimatedSalary\n",
       "0   -0.615376        -1.615376\n",
       "1    1.948691        -1.292907\n",
       "2   -0.516758        -1.527430\n",
       "3    0.272186         0.055602\n",
       "4   -0.812612        -0.266868\n",
       "..        ...              ...\n",
       "295  0.370804         0.290125\n",
       "296 -1.108466        -1.586061\n",
       "297 -1.404320        -1.234276\n",
       "298  0.469422         1.110956\n",
       "299  0.863894         0.348756\n",
       "\n",
       "[300 rows x 2 columns]"
      ]
     },
     "execution_count": 88,
     "metadata": {},
     "output_type": "execute_result"
    }
   ],
   "source": [
    "x_train_scaled"
   ]
  },
  {
   "cell_type": "code",
   "execution_count": 89,
   "metadata": {},
   "outputs": [],
   "source": [
    "# check mean befor transformation"
   ]
  },
  {
   "cell_type": "code",
   "execution_count": 90,
   "metadata": {},
   "outputs": [
    {
     "data": {
      "text/plain": [
       "37.24"
      ]
     },
     "execution_count": 90,
     "metadata": {},
     "output_type": "execute_result"
    }
   ],
   "source": [
    "x_train['Age'].mean()"
   ]
  },
  {
   "cell_type": "code",
   "execution_count": null,
   "metadata": {},
   "outputs": [],
   "source": []
  },
  {
   "cell_type": "code",
   "execution_count": 91,
   "metadata": {},
   "outputs": [],
   "source": [
    "# check mean after transformation"
   ]
  },
  {
   "cell_type": "code",
   "execution_count": 92,
   "metadata": {},
   "outputs": [
    {
     "data": {
      "text/plain": [
       "-0.0"
      ]
     },
     "execution_count": 92,
     "metadata": {},
     "output_type": "execute_result"
    }
   ],
   "source": [
    "np.round(x_train_scaled['Age'].mean())"
   ]
  },
  {
   "cell_type": "code",
   "execution_count": 93,
   "metadata": {},
   "outputs": [
    {
     "data": {
      "text/plain": [
       "Text(0.5, 1.0, 'After Scaling')"
      ]
     },
     "execution_count": 93,
     "metadata": {},
     "output_type": "execute_result"
    },
    {
     "data": {
      "image/png": "[encoded data removed]",
      "text/plain": [
       "<Figure size 432x288 with 1 Axes>"
      ]
     },
     "metadata": {
      "needs_background": "light"
     },
     "output_type": "display_data"
    }
   ],
   "source": [
    "plt.scatter(x_train_scaled['Age'],x_train_scaled['EstimatedSalary'],color=\"red\")\n",
    "plt.title(\"After Scaling\")"
   ]
  },
  {
   "cell_type": "code",
   "execution_count": null,
   "metadata": {},
   "outputs": [],
   "source": []
  },
  {
   "cell_type": "code",
   "execution_count": null,
   "metadata": {},
   "outputs": [],
   "source": []
  },
  {
   "cell_type": "code",
   "execution_count": null,
   "metadata": {},
   "outputs": [],
   "source": []
  },
  {
   "cell_type": "code",
   "execution_count": null,
   "metadata": {},
   "outputs": [],
   "source": []
  },
  {
   "cell_type": "code",
   "execution_count": null,
   "metadata": {},
   "outputs": [],
   "source": []
  },
  {
   "cell_type": "code",
   "execution_count": null,
   "metadata": {},
   "outputs": [],
   "source": []
  },
  {
   "cell_type": "code",
   "execution_count": null,
   "metadata": {},
   "outputs": [],
   "source": []
  },
  {
   "cell_type": "code",
   "execution_count": null,
   "metadata": {},
   "outputs": [],
   "source": []
  },
  {
   "cell_type": "code",
   "execution_count": 45,
   "metadata": {},
   "outputs": [
    {
     "data": {
      "text/plain": [
       "<matplotlib.collections.PathCollection at 0x1e98186b730>"
      ]
     },
     "execution_count": 45,
     "metadata": {},
     "output_type": "execute_result"
    },
    {
     "data": {
      "image/png": "[encoded data removed]",
      "text/plain": [
       "<Figure size 432x288 with 1 Axes>"
      ]
     },
     "metadata": {
      "needs_background": "light"
     },
     "output_type": "display_data"
    }
   ],
   "source": [
    "plt.scatter(x_train['Age'] , y_train)"
   ]
  },
  {
   "cell_type": "code",
   "execution_count": 46,
   "metadata": {},
   "outputs": [
    {
     "data": {
      "text/plain": [
       "<matplotlib.collections.PathCollection at 0x1e9819b3d30>"
      ]
     },
     "execution_count": 46,
     "metadata": {},
     "output_type": "execute_result"
    },
    {
     "data": {
      "image/png": "[encoded data removed]",
      "text/plain": [
       "<Figure size 432x288 with 1 Axes>"
      ]
     },
     "metadata": {
      "needs_background": "light"
     },
     "output_type": "display_data"
    }
   ],
   "source": [
    "plt.scatter(x_train_scaled['Age'],y_train)"
   ]
  },
  {
   "cell_type": "code",
   "execution_count": 49,
   "metadata": {},
   "outputs": [
    {
     "data": {
      "text/plain": [
       "Text(0.5, 1.0, 'Before Scaling')"
      ]
     },
     "execution_count": 49,
     "metadata": {},
     "output_type": "execute_result"
    },
    {
     "data": {
      "image/png": "[encoded data removed]",
      "text/plain": [
       "<Figure size 432x288 with 1 Axes>"
      ]
     },
     "metadata": {
      "needs_background": "light"
     },
     "output_type": "display_data"
    }
   ],
   "source": [
    "col=['red','blue']\n",
    "\n",
    "plt.scatter(x_train['Age'],x_train['EstimatedSalary'])\n",
    "plt.title(\"Before Scaling\")"
   ]
  },
  {
   "cell_type": "code",
   "execution_count": null,
   "metadata": {},
   "outputs": [],
   "source": []
  },
  {
   "cell_type": "code",
   "execution_count": null,
   "metadata": {},
   "outputs": [],
   "source": []
  },
  {
   "cell_type": "code",
   "execution_count": null,
   "metadata": {},
   "outputs": [],
   "source": []
  },
  {
   "cell_type": "code",
   "execution_count": 52,
   "metadata": {},
   "outputs": [],
   "source": [
    "import seaborn as sns "
   ]
  },
  {
   "cell_type": "code",
   "execution_count": 57,
   "metadata": {},
   "outputs": [
    {
     "name": "stderr",
     "output_type": "stream",
     "text": [
      "C:\\Users\\ngc\\anaconda3\\lib\\site-packages\\seaborn\\_decorators.py:36: FutureWarning: Pass the following variables as keyword args: x, y. From version 0.12, the only valid positional argument will be `data`, and passing other arguments without an explicit keyword will result in an error or misinterpretation.\n",
      "  warnings.warn(\n"
     ]
    },
    {
     "ename": "ValueError",
     "evalue": "Could not interpret value `y_train.iloc[0]` for parameter `hue`",
     "output_type": "error",
     "traceback": [
      "\u001b[1;31m---------------------------------------------------------------------------\u001b[0m",
      "\u001b[1;31mValueError\u001b[0m                                Traceback (most recent call last)",
      "\u001b[1;32m<ipython-input-57-f10fe8d743d9>\u001b[0m in \u001b[0;36m<module>\u001b[1;34m\u001b[0m\n\u001b[1;32m----> 1\u001b[1;33m \u001b[0msns\u001b[0m\u001b[1;33m.\u001b[0m\u001b[0mscatterplot\u001b[0m\u001b[1;33m(\u001b[0m\u001b[0mx_train\u001b[0m\u001b[1;33m[\u001b[0m\u001b[1;34m'Age'\u001b[0m\u001b[1;33m]\u001b[0m\u001b[1;33m,\u001b[0m\u001b[0mx_train\u001b[0m\u001b[1;33m[\u001b[0m\u001b[1;34m'EstimatedSalary'\u001b[0m\u001b[1;33m]\u001b[0m \u001b[1;33m,\u001b[0m \u001b[0mdata\u001b[0m\u001b[1;33m=\u001b[0m\u001b[0mx_train\u001b[0m\u001b[1;33m,\u001b[0m\u001b[0mhue\u001b[0m\u001b[1;33m=\u001b[0m\u001b[1;34m'y_train.iloc[0]'\u001b[0m \u001b[1;33m)\u001b[0m\u001b[1;33m\u001b[0m\u001b[1;33m\u001b[0m\u001b[0m\n\u001b[0m",
      "\u001b[1;32m~\\anaconda3\\lib\\site-packages\\seaborn\\_decorators.py\u001b[0m in \u001b[0;36minner_f\u001b[1;34m(*args, **kwargs)\u001b[0m\n\u001b[0;32m     44\u001b[0m             )\n\u001b[0;32m     45\u001b[0m         \u001b[0mkwargs\u001b[0m\u001b[1;33m.\u001b[0m\u001b[0mupdate\u001b[0m\u001b[1;33m(\u001b[0m\u001b[1;33m{\u001b[0m\u001b[0mk\u001b[0m\u001b[1;33m:\u001b[0m \u001b[0marg\u001b[0m \u001b[1;32mfor\u001b[0m \u001b[0mk\u001b[0m\u001b[1;33m,\u001b[0m \u001b[0marg\u001b[0m \u001b[1;32min\u001b[0m \u001b[0mzip\u001b[0m\u001b[1;33m(\u001b[0m\u001b[0msig\u001b[0m\u001b[1;33m.\u001b[0m\u001b[0mparameters\u001b[0m\u001b[1;33m,\u001b[0m \u001b[0margs\u001b[0m\u001b[1;33m)\u001b[0m\u001b[1;33m}\u001b[0m\u001b[1;33m)\u001b[0m\u001b[1;33m\u001b[0m\u001b[1;33m\u001b[0m\u001b[0m\n\u001b[1;32m---> 46\u001b[1;33m         \u001b[1;32mreturn\u001b[0m \u001b[0mf\u001b[0m\u001b[1;33m(\u001b[0m\u001b[1;33m**\u001b[0m\u001b[0mkwargs\u001b[0m\u001b[1;33m)\u001b[0m\u001b[1;33m\u001b[0m\u001b[1;33m\u001b[0m\u001b[0m\n\u001b[0m\u001b[0;32m     47\u001b[0m     \u001b[1;32mreturn\u001b[0m \u001b[0minner_f\u001b[0m\u001b[1;33m\u001b[0m\u001b[1;33m\u001b[0m\u001b[0m\n\u001b[0;32m     48\u001b[0m \u001b[1;33m\u001b[0m\u001b[0m\n",
      "\u001b[1;32m~\\anaconda3\\lib\\site-packages\\seaborn\\relational.py\u001b[0m in \u001b[0;36mscatterplot\u001b[1;34m(x, y, hue, style, size, data, palette, hue_order, hue_norm, sizes, size_order, size_norm, markers, style_order, x_bins, y_bins, units, estimator, ci, n_boot, alpha, x_jitter, y_jitter, legend, ax, **kwargs)\u001b[0m\n\u001b[0;32m    792\u001b[0m \u001b[1;33m\u001b[0m\u001b[0m\n\u001b[0;32m    793\u001b[0m     \u001b[0mvariables\u001b[0m \u001b[1;33m=\u001b[0m \u001b[0m_ScatterPlotter\u001b[0m\u001b[1;33m.\u001b[0m\u001b[0mget_semantics\u001b[0m\u001b[1;33m(\u001b[0m\u001b[0mlocals\u001b[0m\u001b[1;33m(\u001b[0m\u001b[1;33m)\u001b[0m\u001b[1;33m)\u001b[0m\u001b[1;33m\u001b[0m\u001b[1;33m\u001b[0m\u001b[0m\n\u001b[1;32m--> 794\u001b[1;33m     p = _ScatterPlotter(\n\u001b[0m\u001b[0;32m    795\u001b[0m         \u001b[0mdata\u001b[0m\u001b[1;33m=\u001b[0m\u001b[0mdata\u001b[0m\u001b[1;33m,\u001b[0m \u001b[0mvariables\u001b[0m\u001b[1;33m=\u001b[0m\u001b[0mvariables\u001b[0m\u001b[1;33m,\u001b[0m\u001b[1;33m\u001b[0m\u001b[1;33m\u001b[0m\u001b[0m\n\u001b[0;32m    796\u001b[0m         \u001b[0mx_bins\u001b[0m\u001b[1;33m=\u001b[0m\u001b[0mx_bins\u001b[0m\u001b[1;33m,\u001b[0m \u001b[0my_bins\u001b[0m\u001b[1;33m=\u001b[0m\u001b[0my_bins\u001b[0m\u001b[1;33m,\u001b[0m\u001b[1;33m\u001b[0m\u001b[1;33m\u001b[0m\u001b[0m\n",
      "\u001b[1;32m~\\anaconda3\\lib\\site-packages\\seaborn\\relational.py\u001b[0m in \u001b[0;36m__init__\u001b[1;34m(self, data, variables, x_bins, y_bins, estimator, ci, n_boot, alpha, x_jitter, y_jitter, legend)\u001b[0m\n\u001b[0;32m    578\u001b[0m         )\n\u001b[0;32m    579\u001b[0m \u001b[1;33m\u001b[0m\u001b[0m\n\u001b[1;32m--> 580\u001b[1;33m         \u001b[0msuper\u001b[0m\u001b[1;33m(\u001b[0m\u001b[1;33m)\u001b[0m\u001b[1;33m.\u001b[0m\u001b[0m__init__\u001b[0m\u001b[1;33m(\u001b[0m\u001b[0mdata\u001b[0m\u001b[1;33m=\u001b[0m\u001b[0mdata\u001b[0m\u001b[1;33m,\u001b[0m \u001b[0mvariables\u001b[0m\u001b[1;33m=\u001b[0m\u001b[0mvariables\u001b[0m\u001b[1;33m)\u001b[0m\u001b[1;33m\u001b[0m\u001b[1;33m\u001b[0m\u001b[0m\n\u001b[0m\u001b[0;32m    581\u001b[0m \u001b[1;33m\u001b[0m\u001b[0m\n\u001b[0;32m    582\u001b[0m         \u001b[0mself\u001b[0m\u001b[1;33m.\u001b[0m\u001b[0malpha\u001b[0m \u001b[1;33m=\u001b[0m \u001b[0malpha\u001b[0m\u001b[1;33m\u001b[0m\u001b[1;33m\u001b[0m\u001b[0m\n",
      "\u001b[1;32m~\\anaconda3\\lib\\site-packages\\seaborn\\_core.py\u001b[0m in \u001b[0;36m__init__\u001b[1;34m(self, data, variables)\u001b[0m\n\u001b[0;32m    602\u001b[0m     \u001b[1;32mdef\u001b[0m \u001b[0m__init__\u001b[0m\u001b[1;33m(\u001b[0m\u001b[0mself\u001b[0m\u001b[1;33m,\u001b[0m \u001b[0mdata\u001b[0m\u001b[1;33m=\u001b[0m\u001b[1;32mNone\u001b[0m\u001b[1;33m,\u001b[0m \u001b[0mvariables\u001b[0m\u001b[1;33m=\u001b[0m\u001b[1;33m{\u001b[0m\u001b[1;33m}\u001b[0m\u001b[1;33m)\u001b[0m\u001b[1;33m:\u001b[0m\u001b[1;33m\u001b[0m\u001b[1;33m\u001b[0m\u001b[0m\n\u001b[0;32m    603\u001b[0m \u001b[1;33m\u001b[0m\u001b[0m\n\u001b[1;32m--> 604\u001b[1;33m         \u001b[0mself\u001b[0m\u001b[1;33m.\u001b[0m\u001b[0massign_variables\u001b[0m\u001b[1;33m(\u001b[0m\u001b[0mdata\u001b[0m\u001b[1;33m,\u001b[0m \u001b[0mvariables\u001b[0m\u001b[1;33m)\u001b[0m\u001b[1;33m\u001b[0m\u001b[1;33m\u001b[0m\u001b[0m\n\u001b[0m\u001b[0;32m    605\u001b[0m \u001b[1;33m\u001b[0m\u001b[0m\n\u001b[0;32m    606\u001b[0m         \u001b[1;32mfor\u001b[0m \u001b[0mvar\u001b[0m\u001b[1;33m,\u001b[0m \u001b[0mcls\u001b[0m \u001b[1;32min\u001b[0m \u001b[0mself\u001b[0m\u001b[1;33m.\u001b[0m\u001b[0m_semantic_mappings\u001b[0m\u001b[1;33m.\u001b[0m\u001b[0mitems\u001b[0m\u001b[1;33m(\u001b[0m\u001b[1;33m)\u001b[0m\u001b[1;33m:\u001b[0m\u001b[1;33m\u001b[0m\u001b[1;33m\u001b[0m\u001b[0m\n",
      "\u001b[1;32m~\\anaconda3\\lib\\site-packages\\seaborn\\_core.py\u001b[0m in \u001b[0;36massign_variables\u001b[1;34m(self, data, variables)\u001b[0m\n\u001b[0;32m    665\u001b[0m         \u001b[1;32melse\u001b[0m\u001b[1;33m:\u001b[0m\u001b[1;33m\u001b[0m\u001b[1;33m\u001b[0m\u001b[0m\n\u001b[0;32m    666\u001b[0m             \u001b[0mself\u001b[0m\u001b[1;33m.\u001b[0m\u001b[0minput_format\u001b[0m \u001b[1;33m=\u001b[0m \u001b[1;34m\"long\"\u001b[0m\u001b[1;33m\u001b[0m\u001b[1;33m\u001b[0m\u001b[0m\n\u001b[1;32m--> 667\u001b[1;33m             plot_data, variables = self._assign_variables_longform(\n\u001b[0m\u001b[0;32m    668\u001b[0m                 \u001b[0mdata\u001b[0m\u001b[1;33m,\u001b[0m \u001b[1;33m**\u001b[0m\u001b[0mvariables\u001b[0m\u001b[1;33m,\u001b[0m\u001b[1;33m\u001b[0m\u001b[1;33m\u001b[0m\u001b[0m\n\u001b[0;32m    669\u001b[0m             )\n",
      "\u001b[1;32m~\\anaconda3\\lib\\site-packages\\seaborn\\_core.py\u001b[0m in \u001b[0;36m_assign_variables_longform\u001b[1;34m(self, data, **kwargs)\u001b[0m\n\u001b[0;32m    885\u001b[0m                     \u001b[1;31m# We don't know what this name means\u001b[0m\u001b[1;33m\u001b[0m\u001b[1;33m\u001b[0m\u001b[1;33m\u001b[0m\u001b[0m\n\u001b[0;32m    886\u001b[0m                     \u001b[0merr\u001b[0m \u001b[1;33m=\u001b[0m \u001b[1;34mf\"Could not interpret value `{val}` for parameter `{key}`\"\u001b[0m\u001b[1;33m\u001b[0m\u001b[1;33m\u001b[0m\u001b[0m\n\u001b[1;32m--> 887\u001b[1;33m                     \u001b[1;32mraise\u001b[0m \u001b[0mValueError\u001b[0m\u001b[1;33m(\u001b[0m\u001b[0merr\u001b[0m\u001b[1;33m)\u001b[0m\u001b[1;33m\u001b[0m\u001b[1;33m\u001b[0m\u001b[0m\n\u001b[0m\u001b[0;32m    888\u001b[0m \u001b[1;33m\u001b[0m\u001b[0m\n\u001b[0;32m    889\u001b[0m             \u001b[1;32melse\u001b[0m\u001b[1;33m:\u001b[0m\u001b[1;33m\u001b[0m\u001b[1;33m\u001b[0m\u001b[0m\n",
      "\u001b[1;31mValueError\u001b[0m: Could not interpret value `y_train.iloc[0]` for parameter `hue`"
     ]
    }
   ],
   "source": [
    "sns.scatterplot(x_train['Age'],x_train['EstimatedSalary'] , data=x_train,hue='y_train.iloc[0]' )"
   ]
  },
  {
   "cell_type": "code",
   "execution_count": null,
   "metadata": {},
   "outputs": [],
   "source": []
  },
  {
   "cell_type": "code",
   "execution_count": null,
   "metadata": {},
   "outputs": [],
   "source": []
  }
 ],
 "metadata": {
  "kernelspec": {
   "display_name": "Python 3",
   "language": "python",
   "name": "python3"
  },
  "language_info": {
   "codemirror_mode": {
    "name": "ipython",
    "version": 3
   },
   "file_extension": ".py",
   "mimetype": "text/x-python",
   "name": "python",
   "nbconvert_exporter": "python",
   "pygments_lexer": "ipython3",
   "version": "3.8.5"
  }
 },
 "nbformat": 4,
 "nbformat_minor": 4
}
